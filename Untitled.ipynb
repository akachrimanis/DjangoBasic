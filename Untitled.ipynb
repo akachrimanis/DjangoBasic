{
 "cells": [
  {
   "cell_type": "code",
   "execution_count": 4,
   "id": "992bcace-89fc-42bf-b823-aff55325c2f7",
   "metadata": {},
   "outputs": [],
   "source": [
    "html_content = f\"\"\"\n",
    "    {{% extends 'base.html' %}}\n",
    "    {{% block content %}}\\n\n",
    "    \"\"\""
   ]
  },
  {
   "cell_type": "code",
   "execution_count": 2,
   "id": "c61b2e23-f579-4f81-88cc-6ae9f5de8d94",
   "metadata": {},
   "outputs": [
    {
     "data": {
      "text/plain": [
       "\"\\n    {% extends 'base.html' %}\\n    {% block content %}\\n\\n    \""
      ]
     },
     "execution_count": 2,
     "metadata": {},
     "output_type": "execute_result"
    }
   ],
   "source": [
    "html_content"
   ]
  },
  {
   "cell_type": "code",
   "execution_count": null,
   "id": "54d5bf88-b5e5-46cb-8a88-f0ef12c28007",
   "metadata": {},
   "outputs": [],
   "source": []
  },
  {
   "cell_type": "code",
   "execution_count": 5,
   "id": "f31284fe-0502-4307-8529-dde70e4b5b2f",
   "metadata": {},
   "outputs": [
    {
     "ename": "SyntaxError",
     "evalue": "'(' was never closed (3639779380.py, line 20)",
     "output_type": "error",
     "traceback": [
      "\u001b[0;36m  Cell \u001b[0;32mIn[5], line 20\u001b[0;36m\u001b[0m\n\u001b[0;31m    print(html_api\u001b[0m\n\u001b[0m         ^\u001b[0m\n\u001b[0;31mSyntaxError\u001b[0m\u001b[0;31m:\u001b[0m '(' was never closed\n"
     ]
    }
   ],
   "source": [
    "def create_list_html(df, model_name):\n",
    "    df = df.astype(str)\n",
    "    # Starting script\n",
    "    html_content = \"\"\"\n",
    "    {{% extends 'base.html' %}}\n",
    "    {{% block content %}} \\n\n",
    "    \"\"\"\n",
    "    html_api = f\"\"\"<h2>{model_name} List</h2>\n",
    "<a href=\"{{%  url '{model_name.lower()}_create' %}}\">Create New {model_name.capitalize()} </a>\n",
    "<ul>\n",
    "    {{%  for {model_name.lower()} in {model_name.lower()}s %}}\n",
    "    <li>\n",
    "        {{{{ {model_name.lower()}.name }}}}  ({{{{ {model_name.lower()}.email }}}} )\n",
    "        <a href=\"{{%  url '{model_name.lower()}_update' {model_name.lower()}.id %}}\">Edit</a>\n",
    "        <a href=\"{{% url '{model_name.lower()}_delete' {model_name.lower()}.id %}}\">Delete</a>\n",
    "    </li>\n",
    "    {{%  endfor %}}\n",
    "</ul>\n",
    "{{%  endblock %}}\"\"\"\n",
    "    print(html_api\n",
    "    return html_content + html_api"
   ]
  },
  {
   "cell_type": "code",
   "execution_count": 10,
   "id": "dfc296e6-8b3f-4a63-8fc8-e8b7c4669ec5",
   "metadata": {},
   "outputs": [
    {
     "data": {
      "text/plain": [
       "'<h2>Customer List</h2>\\n<a href=\"{%  url customer_create %}\">Create New Customer </a>\\n<ul>\\n    {%  for customer in customers %}\\n    <li>\\n        {{ customer.name }}  ({{ customer.email }} )\\n        <a href=\"{%  url \\'customer_update\\' customer.id %}\">Edit</a>\\n        <a href=\"{% url \\'customer_delete\\' customer.id %}\">Delete</a>\\n    </li>\\n    {%  endfor %}\\n</ul>\\n{%  endblock %}'"
      ]
     },
     "execution_count": 10,
     "metadata": {},
     "output_type": "execute_result"
    }
   ],
   "source": [
    "model_name = \"Customer\"\n",
    "html_content = \"\"\"\n",
    "    {{% extends 'base.html' %}}\n",
    "    {{% block content %}} \\n\n",
    "    \"\"\"\n",
    "html_api = f\"\"\"<h2>{model_name} List</h2>\n",
    "<a href=\"{{%  url {model_name.lower()}_create %}}\">Create New {model_name.capitalize()} </a>\n",
    "<ul>\n",
    "    {{%  for {model_name.lower()} in {model_name.lower()}s %}}\n",
    "    <li>\n",
    "        {{{{ {model_name.lower()}.name }}}}  ({{{{ {model_name.lower()}.email }}}} )\n",
    "        <a href=\"{{%  url '{model_name.lower()}_update' {model_name.lower()}.id %}}\">Edit</a>\n",
    "        <a href=\"{{% url '{model_name.lower()}_delete' {model_name.lower()}.id %}}\">Delete</a>\n",
    "    </li>\n",
    "    {{%  endfor %}}\n",
    "</ul>\n",
    "{{%  endblock %}}\"\"\"\n",
    "html_content\n",
    "html_api"
   ]
  },
  {
   "cell_type": "code",
   "execution_count": 12,
   "id": "6ff23b4e-f42b-4259-9ee5-e86c37c4a9ad",
   "metadata": {},
   "outputs": [
    {
     "ename": "SyntaxError",
     "evalue": "incomplete input (2924243818.py, line 1)",
     "output_type": "error",
     "traceback": [
      "\u001b[0;36m  Cell \u001b[0;32mIn[12], line 1\u001b[0;36m\u001b[0m\n\u001b[0;31m    html_content = f\"\"\"\u001b[0m\n\u001b[0m                   ^\u001b[0m\n\u001b[0;31mSyntaxError\u001b[0m\u001b[0;31m:\u001b[0m incomplete input\n"
     ]
    }
   ],
   "source": [
    "html_content = f\"\"\"\n",
    "    <h2>Delete {model_name}</h2>\n",
    "<p>Are you sure you want to delete \"{{ {model_name.lower()}.name }}\"?</p>\n",
    "<form method=\"post\">\n",
    "    {% csrf_token %}\n",
    "    <button type=\"submit\">Yes, delete</button>\n",
    "</form>\n",
    "<a href=\"{% url '{model_name.lower()}_list' %}\">Cancel</a>\n",
    "{% endblock %}"
   ]
  },
  {
   "cell_type": "code",
   "execution_count": null,
   "id": "97805fb4-a1a3-4401-b299-9a6fef0e60b1",
   "metadata": {},
   "outputs": [],
   "source": []
  }
 ],
 "metadata": {
  "kernelspec": {
   "display_name": "taxes_analysis",
   "language": "python",
   "name": "taxes_analysis"
  },
  "language_info": {
   "codemirror_mode": {
    "name": "ipython",
    "version": 3
   },
   "file_extension": ".py",
   "mimetype": "text/x-python",
   "name": "python",
   "nbconvert_exporter": "python",
   "pygments_lexer": "ipython3",
   "version": "3.11.7"
  }
 },
 "nbformat": 4,
 "nbformat_minor": 5
}
